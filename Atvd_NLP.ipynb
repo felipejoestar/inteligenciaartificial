{
  "nbformat": 4,
  "nbformat_minor": 0,
  "metadata": {
    "colab": {
      "provenance": []
    },
    "kernelspec": {
      "name": "python3",
      "display_name": "Python 3"
    },
    "language_info": {
      "name": "python"
    }
  },
  "cells": [
    {
      "cell_type": "markdown",
      "source": [
        "# Bibliotecas Utilizadas\n"
      ],
      "metadata": {
        "id": "Q_F0CezbLvPn"
      }
    },
    {
      "cell_type": "code",
      "execution_count": 16,
      "metadata": {
        "id": "svsdoip4IFbF"
      },
      "outputs": [],
      "source": [
        "from sklearn.datasets import fetch_20newsgroups \n",
        "import pandas as pd \n",
        "from sklearn.feature_extraction.text import CountVectorizer, TfidfTransformer \n",
        "from sklearn.naive_bayes import MultinomialNB\n",
        "from sklearn.pipeline import Pipeline\n",
        "from nltk.stem.snowball import SnowballStemmer\n",
        "import numpy as np\n",
        "from sklearn.linear_model import SGDClassifier \n",
        "from sklearn.model_selection import GridSearchCV\n",
        "import nltk \n",
        "from sklearn.metrics import f1_score, accuracy_score, confusion_matrix, classification_report, ConfusionMatrixDisplay\n",
        "import warnings\n",
        "import matplotlib.pyplot as plt \n",
        "\n",
        "warnings.simplefilter('ignore')\n",
        "#nltk.download()"
      ]
    },
    {
      "cell_type": "markdown",
      "source": [
        "# Carregamento do Dataset"
      ],
      "metadata": {
        "id": "cc8wHkvNL4sl"
      }
    },
    {
      "cell_type": "code",
      "source": [
        "newsgroups = fetch_20newsgroups(subset='train')"
      ],
      "metadata": {
        "id": "svIEoZOsIKNa"
      },
      "execution_count": 17,
      "outputs": []
    },
    {
      "cell_type": "code",
      "source": [
        "list(newsgroups.target_names)"
      ],
      "metadata": {
        "colab": {
          "base_uri": "https://localhost:8080/"
        },
        "id": "xopXY-L-IR1_",
        "outputId": "e412d79e-e4c7-4aad-c9b1-8ac63d05696f"
      },
      "execution_count": 18,
      "outputs": [
        {
          "output_type": "execute_result",
          "data": {
            "text/plain": [
              "['alt.atheism',\n",
              " 'comp.graphics',\n",
              " 'comp.os.ms-windows.misc',\n",
              " 'comp.sys.ibm.pc.hardware',\n",
              " 'comp.sys.mac.hardware',\n",
              " 'comp.windows.x',\n",
              " 'misc.forsale',\n",
              " 'rec.autos',\n",
              " 'rec.motorcycles',\n",
              " 'rec.sport.baseball',\n",
              " 'rec.sport.hockey',\n",
              " 'sci.crypt',\n",
              " 'sci.electronics',\n",
              " 'sci.med',\n",
              " 'sci.space',\n",
              " 'soc.religion.christian',\n",
              " 'talk.politics.guns',\n",
              " 'talk.politics.mideast',\n",
              " 'talk.politics.misc',\n",
              " 'talk.religion.misc']"
            ]
          },
          "metadata": {},
          "execution_count": 18
        }
      ]
    },
    {
      "cell_type": "markdown",
      "source": [
        "# Escolha de 10 categorias para o teste do modelo"
      ],
      "metadata": {
        "id": "clsWc4mvMB_K"
      }
    },
    {
      "cell_type": "code",
      "source": [
        "categories = ['comp.graphics', 'comp.sys.ibm.pc.hardware','comp.windows.x',  'comp.sys.mac.hardware', 'sci.electronics','sci.space','sci.med','talk.politics.mideast','misc.forsale','talk.politics.misc',  ]\n",
        "df_train = fetch_20newsgroups(subset='train', categories=categories, shuffle=True, random_state=42)\n",
        "df_test = fetch_20newsgroups(subset='test', categories=categories, shuffle=True)"
      ],
      "metadata": {
        "id": "VX6eGam3KE9W"
      },
      "execution_count": 19,
      "outputs": []
    },
    {
      "cell_type": "code",
      "source": [
        "df_train.target_names\n",
        "#Treino utilizando as categorias escolhidas"
      ],
      "metadata": {
        "colab": {
          "base_uri": "https://localhost:8080/"
        },
        "id": "CA9tad6LMg6K",
        "outputId": "fe1d43e9-f3ec-4605-f52b-0342f892b733"
      },
      "execution_count": 20,
      "outputs": [
        {
          "output_type": "execute_result",
          "data": {
            "text/plain": [
              "['comp.graphics',\n",
              " 'comp.sys.ibm.pc.hardware',\n",
              " 'comp.sys.mac.hardware',\n",
              " 'comp.windows.x',\n",
              " 'misc.forsale',\n",
              " 'sci.electronics',\n",
              " 'sci.med',\n",
              " 'sci.space',\n",
              " 'talk.politics.mideast',\n",
              " 'talk.politics.misc']"
            ]
          },
          "metadata": {},
          "execution_count": 20
        }
      ]
    },
    {
      "cell_type": "code",
      "source": [
        "count_vect = CountVectorizer() # Instancia o algoritmo do count vectorizer\n",
        "X_train_counts = count_vect.fit_transform(df_train.data)\n",
        "X_train_counts.shape"
      ],
      "metadata": {
        "colab": {
          "base_uri": "https://localhost:8080/"
        },
        "id": "VdE15pNsNv8a",
        "outputId": "33d4d103-8754-4dae-897f-43622b211079"
      },
      "execution_count": 21,
      "outputs": [
        {
          "output_type": "execute_result",
          "data": {
            "text/plain": [
              "(5737, 66307)"
            ]
          },
          "metadata": {},
          "execution_count": 21
        }
      ]
    },
    {
      "cell_type": "code",
      "source": [
        "tfidf_transformer = TfidfTransformer() # Medida estatistica que indica a importância das categorias em relação a coleção dos dados\n",
        "X_train_tfidf = tfidf_transformer.fit_transform(X_train_counts)"
      ],
      "metadata": {
        "id": "r_CUyWgENqRv"
      },
      "execution_count": 22,
      "outputs": []
    },
    {
      "cell_type": "markdown",
      "source": [
        "# Treinamento do Modelo 1"
      ],
      "metadata": {
        "id": "q2U5kXOsNEDo"
      }
    },
    {
      "cell_type": "code",
      "source": [
        "clf = MultinomialNB() # Instancia o Nayve Bayes para o Machine Learning\n",
        "clf.fit(X_train_tfidf, df_train.target)"
      ],
      "metadata": {
        "colab": {
          "base_uri": "https://localhost:8080/",
          "height": 75
        },
        "id": "KABm2IG4NG3-",
        "outputId": "fa28566e-7857-4b36-f288-9f082eb30595"
      },
      "execution_count": 23,
      "outputs": [
        {
          "output_type": "execute_result",
          "data": {
            "text/plain": [
              "MultinomialNB()"
            ],
            "text/html": [
              "<style>#sk-container-id-2 {color: black;background-color: white;}#sk-container-id-2 pre{padding: 0;}#sk-container-id-2 div.sk-toggleable {background-color: white;}#sk-container-id-2 label.sk-toggleable__label {cursor: pointer;display: block;width: 100%;margin-bottom: 0;padding: 0.3em;box-sizing: border-box;text-align: center;}#sk-container-id-2 label.sk-toggleable__label-arrow:before {content: \"▸\";float: left;margin-right: 0.25em;color: #696969;}#sk-container-id-2 label.sk-toggleable__label-arrow:hover:before {color: black;}#sk-container-id-2 div.sk-estimator:hover label.sk-toggleable__label-arrow:before {color: black;}#sk-container-id-2 div.sk-toggleable__content {max-height: 0;max-width: 0;overflow: hidden;text-align: left;background-color: #f0f8ff;}#sk-container-id-2 div.sk-toggleable__content pre {margin: 0.2em;color: black;border-radius: 0.25em;background-color: #f0f8ff;}#sk-container-id-2 input.sk-toggleable__control:checked~div.sk-toggleable__content {max-height: 200px;max-width: 100%;overflow: auto;}#sk-container-id-2 input.sk-toggleable__control:checked~label.sk-toggleable__label-arrow:before {content: \"▾\";}#sk-container-id-2 div.sk-estimator input.sk-toggleable__control:checked~label.sk-toggleable__label {background-color: #d4ebff;}#sk-container-id-2 div.sk-label input.sk-toggleable__control:checked~label.sk-toggleable__label {background-color: #d4ebff;}#sk-container-id-2 input.sk-hidden--visually {border: 0;clip: rect(1px 1px 1px 1px);clip: rect(1px, 1px, 1px, 1px);height: 1px;margin: -1px;overflow: hidden;padding: 0;position: absolute;width: 1px;}#sk-container-id-2 div.sk-estimator {font-family: monospace;background-color: #f0f8ff;border: 1px dotted black;border-radius: 0.25em;box-sizing: border-box;margin-bottom: 0.5em;}#sk-container-id-2 div.sk-estimator:hover {background-color: #d4ebff;}#sk-container-id-2 div.sk-parallel-item::after {content: \"\";width: 100%;border-bottom: 1px solid gray;flex-grow: 1;}#sk-container-id-2 div.sk-label:hover label.sk-toggleable__label {background-color: #d4ebff;}#sk-container-id-2 div.sk-serial::before {content: \"\";position: absolute;border-left: 1px solid gray;box-sizing: border-box;top: 0;bottom: 0;left: 50%;z-index: 0;}#sk-container-id-2 div.sk-serial {display: flex;flex-direction: column;align-items: center;background-color: white;padding-right: 0.2em;padding-left: 0.2em;position: relative;}#sk-container-id-2 div.sk-item {position: relative;z-index: 1;}#sk-container-id-2 div.sk-parallel {display: flex;align-items: stretch;justify-content: center;background-color: white;position: relative;}#sk-container-id-2 div.sk-item::before, #sk-container-id-2 div.sk-parallel-item::before {content: \"\";position: absolute;border-left: 1px solid gray;box-sizing: border-box;top: 0;bottom: 0;left: 50%;z-index: -1;}#sk-container-id-2 div.sk-parallel-item {display: flex;flex-direction: column;z-index: 1;position: relative;background-color: white;}#sk-container-id-2 div.sk-parallel-item:first-child::after {align-self: flex-end;width: 50%;}#sk-container-id-2 div.sk-parallel-item:last-child::after {align-self: flex-start;width: 50%;}#sk-container-id-2 div.sk-parallel-item:only-child::after {width: 0;}#sk-container-id-2 div.sk-dashed-wrapped {border: 1px dashed gray;margin: 0 0.4em 0.5em 0.4em;box-sizing: border-box;padding-bottom: 0.4em;background-color: white;}#sk-container-id-2 div.sk-label label {font-family: monospace;font-weight: bold;display: inline-block;line-height: 1.2em;}#sk-container-id-2 div.sk-label-container {text-align: center;}#sk-container-id-2 div.sk-container {/* jupyter's `normalize.less` sets `[hidden] { display: none; }` but bootstrap.min.css set `[hidden] { display: none !important; }` so we also need the `!important` here to be able to override the default hidden behavior on the sphinx rendered scikit-learn.org. See: https://github.com/scikit-learn/scikit-learn/issues/21755 */display: inline-block !important;position: relative;}#sk-container-id-2 div.sk-text-repr-fallback {display: none;}</style><div id=\"sk-container-id-2\" class=\"sk-top-container\"><div class=\"sk-text-repr-fallback\"><pre>MultinomialNB()</pre><b>In a Jupyter environment, please rerun this cell to show the HTML representation or trust the notebook. <br />On GitHub, the HTML representation is unable to render, please try loading this page with nbviewer.org.</b></div><div class=\"sk-container\" hidden><div class=\"sk-item\"><div class=\"sk-estimator sk-toggleable\"><input class=\"sk-toggleable__control sk-hidden--visually\" id=\"sk-estimator-id-2\" type=\"checkbox\" checked><label for=\"sk-estimator-id-2\" class=\"sk-toggleable__label sk-toggleable__label-arrow\">MultinomialNB</label><div class=\"sk-toggleable__content\"><pre>MultinomialNB()</pre></div></div></div></div></div>"
            ]
          },
          "metadata": {},
          "execution_count": 23
        }
      ]
    },
    {
      "cell_type": "code",
      "source": [
        "#Pipeline do machine learning\n",
        "clf_1 = Pipeline([\n",
        "    ('vect', CountVectorizer()),   \n",
        "    ('tfidf', TfidfTransformer()), \n",
        "    ('clf', MultinomialNB())])"
      ],
      "metadata": {
        "id": "1GSNp8vpNMAI"
      },
      "execution_count": 24,
      "outputs": []
    },
    {
      "cell_type": "code",
      "source": [
        "clf_trained = clf_1.fit(df_train.data, df_train.target) #iniciando o treinamento do modelo"
      ],
      "metadata": {
        "id": "Zd_1B4VZNQOS"
      },
      "execution_count": 25,
      "outputs": []
    },
    {
      "cell_type": "code",
      "source": [
        "pred = clf_trained.predict(df_test.data) #Realiza a predição no dado de teste"
      ],
      "metadata": {
        "id": "BUwOtGJJNT6o"
      },
      "execution_count": 26,
      "outputs": []
    },
    {
      "cell_type": "code",
      "source": [
        "acc = np.mean(pred == df_test.target) #Teste de acurácia do modelo\n",
        "print('>>>> Acurácia: ', acc)"
      ],
      "metadata": {
        "colab": {
          "base_uri": "https://localhost:8080/"
        },
        "id": "-X8LiYeYNY1F",
        "outputId": "1f5036aa-bf0f-4e7d-e721-ce4af91659af"
      },
      "execution_count": 27,
      "outputs": [
        {
          "output_type": "stream",
          "name": "stdout",
          "text": [
            ">>>> Acurácia:  0.8259162303664922\n"
          ]
        }
      ]
    },
    {
      "cell_type": "code",
      "source": [
        "creport = classification_report(df_test.target, pred, target_names=df_test.target_names)\n",
        "print(creport)"
      ],
      "metadata": {
        "colab": {
          "base_uri": "https://localhost:8080/"
        },
        "id": "VZ9a1t0xNc8W",
        "outputId": "3d1e4741-d582-42a6-b645-47095271ea68"
      },
      "execution_count": 28,
      "outputs": [
        {
          "output_type": "stream",
          "name": "stdout",
          "text": [
            "                          precision    recall  f1-score   support\n",
            "\n",
            "           comp.graphics       0.82      0.75      0.78       389\n",
            "comp.sys.ibm.pc.hardware       0.69      0.85      0.76       392\n",
            "   comp.sys.mac.hardware       0.84      0.84      0.84       385\n",
            "          comp.windows.x       0.89      0.82      0.85       395\n",
            "            misc.forsale       0.96      0.78      0.86       390\n",
            "         sci.electronics       0.81      0.75      0.78       393\n",
            "                 sci.med       0.88      0.90      0.89       396\n",
            "               sci.space       0.82      0.94      0.88       394\n",
            "   talk.politics.mideast       0.74      0.99      0.84       376\n",
            "      talk.politics.misc       0.96      0.61      0.74       310\n",
            "\n",
            "                accuracy                           0.83      3820\n",
            "               macro avg       0.84      0.82      0.82      3820\n",
            "            weighted avg       0.84      0.83      0.82      3820\n",
            "\n"
          ]
        }
      ]
    },
    {
      "cell_type": "markdown",
      "source": [
        "# Tuning de parametros"
      ],
      "metadata": {
        "id": "gru3cbm9RywO"
      }
    },
    {
      "cell_type": "code",
      "source": [
        "parameters = {'vect__ngram_range': [(1, 1), (1, 2)], 'tfidf__use_idf': (True, False), 'clf__alpha': (1e-2, 1e-3)}"
      ],
      "metadata": {
        "id": "0DLpsdVORwQn"
      },
      "execution_count": 29,
      "outputs": []
    },
    {
      "cell_type": "code",
      "source": [
        "gs_clf = GridSearchCV(clf_trained, parameters, n_jobs=-1) # Define o grid search para buscar os melhores parametros \n",
        "gs_clf = gs_clf.fit(df_train.data, df_train.target) # treinamento do modelo "
      ],
      "metadata": {
        "id": "RgzUfGUyR_24"
      },
      "execution_count": 31,
      "outputs": []
    },
    {
      "cell_type": "code",
      "source": [
        "print(gs_clf.best_score_)\n",
        "gs_clf.best_params_"
      ],
      "metadata": {
        "id": "eUCOS5NMSDkU",
        "colab": {
          "base_uri": "https://localhost:8080/"
        },
        "outputId": "bf50b2ac-9c18-47a4-8bb0-662aca05bced"
      },
      "execution_count": 32,
      "outputs": [
        {
          "output_type": "stream",
          "name": "stdout",
          "text": [
            "0.9170288193104874\n"
          ]
        },
        {
          "output_type": "execute_result",
          "data": {
            "text/plain": [
              "{'clf__alpha': 0.01, 'tfidf__use_idf': True, 'vect__ngram_range': (1, 2)}"
            ]
          },
          "metadata": {},
          "execution_count": 32
        }
      ]
    },
    {
      "cell_type": "markdown",
      "source": [
        "# Treinamento do Modelo: Segundo modo"
      ],
      "metadata": {
        "id": "_S0P17KCOf4s"
      }
    },
    {
      "cell_type": "code",
      "source": [
        "clf_2 = Pipeline([\n",
        "    ('vect', CountVectorizer()), \n",
        "    ('tfidf', TfidfTransformer()),\n",
        "    ('clf-svm', SGDClassifier(loss='hinge', penalty='l2', alpha=1e-3, max_iter=25, random_state=42))])"
      ],
      "metadata": {
        "id": "1EIUsA0IOkKb"
      },
      "execution_count": 33,
      "outputs": []
    },
    {
      "cell_type": "code",
      "source": [
        "svm_trained = clf_2.fit(df_train.data, df_train.target)"
      ],
      "metadata": {
        "id": "D7haHLSMO7tP"
      },
      "execution_count": 34,
      "outputs": []
    },
    {
      "cell_type": "code",
      "source": [
        "pred = svm_trained.predict(df_test.data)"
      ],
      "metadata": {
        "id": "ofg3wCIUPE5s"
      },
      "execution_count": 35,
      "outputs": []
    },
    {
      "cell_type": "code",
      "source": [
        "acc = np.mean(pred == df_test.target) #Teste de acurácia do modelo\n",
        "print('>>>> Acurácia: ', acc)"
      ],
      "metadata": {
        "colab": {
          "base_uri": "https://localhost:8080/"
        },
        "id": "mxtx-LSvPKdd",
        "outputId": "9d774b47-7ed2-4a8c-c6e4-aab8d3d0a46a"
      },
      "execution_count": 36,
      "outputs": [
        {
          "output_type": "stream",
          "name": "stdout",
          "text": [
            ">>>> Acurácia:  0.8489528795811518\n"
          ]
        }
      ]
    },
    {
      "cell_type": "code",
      "source": [
        "creport = classification_report(df_test.target, pred, target_names=df_test.target_names)\n",
        "print(creport)"
      ],
      "metadata": {
        "colab": {
          "base_uri": "https://localhost:8080/"
        },
        "id": "xLji81ZiRjCj",
        "outputId": "96420f08-4121-43c6-8c17-141d4efd87d4"
      },
      "execution_count": 37,
      "outputs": [
        {
          "output_type": "stream",
          "name": "stdout",
          "text": [
            "                          precision    recall  f1-score   support\n",
            "\n",
            "           comp.graphics       0.79      0.78      0.79       389\n",
            "comp.sys.ibm.pc.hardware       0.78      0.74      0.76       392\n",
            "   comp.sys.mac.hardware       0.84      0.85      0.85       385\n",
            "          comp.windows.x       0.84      0.82      0.83       395\n",
            "            misc.forsale       0.82      0.93      0.87       390\n",
            "         sci.electronics       0.86      0.73      0.79       393\n",
            "                 sci.med       0.88      0.89      0.89       396\n",
            "               sci.space       0.89      0.95      0.92       394\n",
            "   talk.politics.mideast       0.90      0.95      0.92       376\n",
            "      talk.politics.misc       0.88      0.85      0.87       310\n",
            "\n",
            "                accuracy                           0.85      3820\n",
            "               macro avg       0.85      0.85      0.85      3820\n",
            "            weighted avg       0.85      0.85      0.85      3820\n",
            "\n"
          ]
        }
      ]
    },
    {
      "cell_type": "code",
      "source": [
        "print(gs_clf.best_score_)\n",
        "gs_clf.best_params_"
      ],
      "metadata": {
        "colab": {
          "base_uri": "https://localhost:8080/"
        },
        "id": "bk9qSkS1S8Gb",
        "outputId": "92bac580-d86a-4663-b9fc-5ebe6133394d"
      },
      "execution_count": 38,
      "outputs": [
        {
          "output_type": "stream",
          "name": "stdout",
          "text": [
            "0.9170288193104874\n"
          ]
        },
        {
          "output_type": "execute_result",
          "data": {
            "text/plain": [
              "{'clf__alpha': 0.01, 'tfidf__use_idf': True, 'vect__ngram_range': (1, 2)}"
            ]
          },
          "metadata": {},
          "execution_count": 38
        }
      ]
    },
    {
      "cell_type": "markdown",
      "source": [
        "# Tuning de Parâmetros"
      ],
      "metadata": {
        "id": "ntI-kNJXTNHL"
      }
    },
    {
      "cell_type": "markdown",
      "source": [
        "Modelo usando SGD com Grid Search"
      ],
      "metadata": {
        "id": "iueIEwUxTNlU"
      }
    },
    {
      "cell_type": "code",
      "source": [
        "parameters_svm = {'vect__ngram_range': [(1, 1), (1, 2)], 'tfidf__use_idf': (True, False),'clf-svm__alpha': (1e-2, 1e-3)}"
      ],
      "metadata": {
        "id": "MAgIGDJDTVbs"
      },
      "execution_count": 39,
      "outputs": []
    },
    {
      "cell_type": "code",
      "source": [
        "gs_clf_svm = GridSearchCV(svm_trained, parameters_svm, n_jobs=-1)\n",
        "gs_clf_svm = gs_clf_svm.fit(df_train.data, df_train.target)"
      ],
      "metadata": {
        "id": "2nyLGyERTYru"
      },
      "execution_count": 40,
      "outputs": []
    },
    {
      "cell_type": "code",
      "source": [
        "print(gs_clf_svm.best_score_)\n",
        "gs_clf_svm.best_params_"
      ],
      "metadata": {
        "colab": {
          "base_uri": "https://localhost:8080/"
        },
        "id": "ZNGq_QDPTZhs",
        "outputId": "536d0d4c-a070-41fb-90b8-55720116f03f"
      },
      "execution_count": 41,
      "outputs": [
        {
          "output_type": "stream",
          "name": "stdout",
          "text": [
            "0.9126705327334752\n"
          ]
        },
        {
          "output_type": "execute_result",
          "data": {
            "text/plain": [
              "{'clf-svm__alpha': 0.001, 'tfidf__use_idf': True, 'vect__ngram_range': (1, 2)}"
            ]
          },
          "metadata": {},
          "execution_count": 41
        }
      ]
    },
    {
      "cell_type": "code",
      "source": [
        "pred = gs_clf_svm.predict(df_test.data)"
      ],
      "metadata": {
        "id": "wnUcy6ARTfrx"
      },
      "execution_count": 42,
      "outputs": []
    },
    {
      "cell_type": "code",
      "source": [
        "acc = np.mean(pred == df_test.target)\n",
        "print('>>>> Acurácia: ', acc)"
      ],
      "metadata": {
        "colab": {
          "base_uri": "https://localhost:8080/"
        },
        "id": "MJk1NUmdTicd",
        "outputId": "4274701a-7766-4e4e-8dd6-15ba99b84621"
      },
      "execution_count": 43,
      "outputs": [
        {
          "output_type": "stream",
          "name": "stdout",
          "text": [
            ">>>> Acurácia:  0.8479057591623037\n"
          ]
        }
      ]
    },
    {
      "cell_type": "code",
      "source": [
        "creport = classification_report(df_test.target, pred, target_names=df_test.target_names)\n",
        "print(creport)"
      ],
      "metadata": {
        "colab": {
          "base_uri": "https://localhost:8080/"
        },
        "id": "k6QxCl_JTl0x",
        "outputId": "62e7390b-ce5a-4f9c-8acb-2a3a2024eccf"
      },
      "execution_count": 44,
      "outputs": [
        {
          "output_type": "stream",
          "name": "stdout",
          "text": [
            "                          precision    recall  f1-score   support\n",
            "\n",
            "           comp.graphics       0.80      0.77      0.78       389\n",
            "comp.sys.ibm.pc.hardware       0.78      0.75      0.76       392\n",
            "   comp.sys.mac.hardware       0.86      0.84      0.85       385\n",
            "          comp.windows.x       0.84      0.83      0.83       395\n",
            "            misc.forsale       0.85      0.93      0.89       390\n",
            "         sci.electronics       0.84      0.74      0.78       393\n",
            "                 sci.med       0.92      0.86      0.89       396\n",
            "               sci.space       0.88      0.96      0.92       394\n",
            "   talk.politics.mideast       0.83      0.98      0.90       376\n",
            "      talk.politics.misc       0.90      0.83      0.86       310\n",
            "\n",
            "                accuracy                           0.85      3820\n",
            "               macro avg       0.85      0.85      0.85      3820\n",
            "            weighted avg       0.85      0.85      0.85      3820\n",
            "\n"
          ]
        }
      ]
    },
    {
      "cell_type": "markdown",
      "source": [
        "Após os testes realizados, o modo dois do treinamento para o modelo se apresenta com **maior acurácia**.\n",
        "\n",
        "Porém sua precisão com algumas categorias **não foi satisfatória**"
      ],
      "metadata": {
        "id": "unMWW9o0O69B"
      }
    },
    {
      "cell_type": "markdown",
      "source": [
        "O recall de 3 categorias estão abaixo do esperado e a precisão de 1 deles também abaixo do requisitado"
      ],
      "metadata": {
        "id": "I9vs9y5hUxIQ"
      }
    }
  ]
}